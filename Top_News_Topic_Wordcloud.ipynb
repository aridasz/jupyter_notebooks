{
 "cells": [
  {
   "cell_type": "code",
   "execution_count": 266,
   "metadata": {
    "scrolled": true
   },
   "outputs": [],
   "source": [
    "import pandas as pd\n",
    "import os\n",
    "import numpy as np\n",
    "from ipywidgets import interact, interactive, fixed, interact_manual\n",
    "import ipywidgets as widgets\n",
    "from IPython.display import display, clear_output, HTML\n",
    "import matplotlib.pyplot as plt\n",
    "import re\n",
    "from wordcloud import WordCloud, STOPWORDS\n",
    "\n",
    "#pip install -U pip setuptools wheel\n",
    "#pip install -U spacy\n",
    "#python -m spacy download en_core_web_sm\n",
    "import spacy\n",
    "nlp = spacy.load('en_core_web_sm')\n",
    "\n",
    "pd.set_option('display.max_colwidth', 0)\n",
    "#print(os.getcwd())"
   ]
  },
  {
   "cell_type": "code",
   "execution_count": 267,
   "metadata": {},
   "outputs": [
    {
     "data": {
      "text/html": [
       "\n",
       "<script>\n",
       "codeShow=true;\n",
       "function codeToggle() {\n",
       "    if(codeShow) { $('div.input').hide(); } else { $('div.input').show(); }\n",
       "    codeShow = !codeShow;\n",
       "}\n",
       "$(document).ready(codeToggle)\n",
       "</script>\n",
       "<form action=\"javascript:codeToggle();\"><input type=\"submit\" value=\"...\"/></form>\n"
      ],
      "text/plain": [
       "<IPython.core.display.HTML object>"
      ]
     },
     "execution_count": 267,
     "metadata": {},
     "output_type": "execute_result"
    }
   ],
   "source": [
    "#code to toggle the code cell blocks\n",
    "HTML('''\n",
    "<script>\n",
    "codeShow=true;\n",
    "function codeToggle() {\n",
    "    if(codeShow) { $('div.input').hide(); } else { $('div.input').show(); }\n",
    "    codeShow = !codeShow;\n",
    "}\n",
    "$(document).ready(codeToggle)\n",
    "</script>\n",
    "<form action=\"javascript:codeToggle();\"><input type=\"submit\" value=\"...\"/></form>\n",
    "''')"
   ]
  },
  {
   "cell_type": "code",
   "execution_count": 268,
   "metadata": {
    "scrolled": true
   },
   "outputs": [],
   "source": [
    "new_api_uri = 'https://newsapi.org/v2/everything?language=en&pageSize=100&q={0}&apiKey={1}'\n",
    "api_key = '6f32d0305ef44edfb64fc31dc6432a04'"
   ]
  },
  {
   "cell_type": "code",
   "execution_count": 269,
   "metadata": {
    "scrolled": true
   },
   "outputs": [],
   "source": [
    "def search_news(x):\n",
    "    search='x'\n",
    "    news_api_query = new_api_uri.format(search, api_key)\n",
    "    response_df=pd.read_json(news_api_query)\n",
    "    raw_df = pd.DataFrame(response_df['articles'].tolist())\n",
    "    raw_df['source_name'] = pd.json_normalize(raw_df['source'])['name']\n",
    "    raw_df['news_text'] = raw_df['title'] + ' ' + raw_df['description']\n",
    "    all_news_text = '.\\n '.join(raw_df['news_text'])\n",
    "    \n",
    "    plot_wc(all_news_text.lower())\n",
    "    detect_entities_in_newstext(all_news_text)\n",
    "    \n",
    "    return None"
   ]
  },
  {
   "cell_type": "code",
   "execution_count": 270,
   "metadata": {
    "scrolled": true
   },
   "outputs": [],
   "source": [
    "def detect_entities_in_newstext(text):\n",
    "    doc = nlp(text)\n",
    "    \n",
    "    ents_dict = {}\n",
    "    for ent in doc.ents:\n",
    "        # create a dict for the entity type as key and set of entity names\n",
    "        ents_dict[ent.label_] = ents_dict[ent.label_] if ent.label_ in ents_dict.keys() else set()\n",
    "        ents_dict[ent.label_].add(ent.text)\n",
    "    \n",
    "    data_list = []\n",
    "    for k,v in ents_dict.items():\n",
    "        data_list.append([k, ', '.join(v)])\n",
    "        \n",
    "    ent_df = pd.DataFrame(data_list, columns=['Entity', 'Name'])\n",
    "    ent_df.set_index('Entity', inplace=True)\n",
    "    display(ent_df)\n",
    "    spacy.displacy.render(doc, style='ent', jupyter=True)"
   ]
  },
  {
   "cell_type": "code",
   "execution_count": 271,
   "metadata": {
    "scrolled": true
   },
   "outputs": [],
   "source": [
    "def plot_wc(text):    \n",
    "    wordcloud = WordCloud(background_color='white', width=1600, height=600, max_words=100, relative_scaling=0.5,\n",
    "                     stopwords=STOPWORDS, normalize_plurals=True).generate(text)\n",
    "    plt.figure(figsize=(20,10))\n",
    "    plt.imshow(wordcloud, interpolation='bilinear')\n",
    "    plt.axis(\"off\")\n",
    "    plt.show()"
   ]
  },
  {
   "cell_type": "code",
   "execution_count": 272,
   "metadata": {
    "scrolled": true
   },
   "outputs": [
    {
     "data": {
      "application/javascript": [
       "IPython.OutputArea.auto_scroll_threshold = 9999;\n"
      ],
      "text/plain": [
       "<IPython.core.display.Javascript object>"
      ]
     },
     "metadata": {},
     "output_type": "display_data"
    }
   ],
   "source": [
    "%%javascript\n",
    "IPython.OutputArea.auto_scroll_threshold = 9999;"
   ]
  },
  {
   "cell_type": "code",
   "execution_count": 273,
   "metadata": {
    "scrolled": false
   },
   "outputs": [
    {
     "data": {
      "application/vnd.jupyter.widget-view+json": {
       "model_id": "49643082c764459e90013b064c98214d",
       "version_major": 2,
       "version_minor": 0
      },
      "text/plain": [
       "interactive(children=(Text(value='', description='Search topic', placeholder=''), Button(description='Run Inte…"
      ]
     },
     "metadata": {},
     "output_type": "display_data"
    },
    {
     "data": {
      "text/plain": [
       "<function __main__.search_news(x)>"
      ]
     },
     "metadata": {},
     "output_type": "display_data"
    }
   ],
   "source": [
    "text_input = widgets.Text(value='', placeholder='', description='Search topic', disabled=False)\n",
    "im = interact_manual(search_news, x=text_input);\n",
    "im.widget.children[1].description = 'Run Search'\n",
    "display(im)"
   ]
  }
 ],
 "metadata": {
  "kernelspec": {
   "display_name": "Python 3",
   "language": "python",
   "name": "python3"
  },
  "language_info": {
   "codemirror_mode": {
    "name": "ipython",
    "version": 3
   },
   "file_extension": ".py",
   "mimetype": "text/x-python",
   "name": "python",
   "nbconvert_exporter": "python",
   "pygments_lexer": "ipython3",
   "version": "3.8.5"
  }
 },
 "nbformat": 4,
 "nbformat_minor": 4
}
